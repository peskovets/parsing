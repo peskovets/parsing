{
 "cells": [
  {
   "cell_type": "markdown",
   "id": "08fc3a4d",
   "metadata": {},
   "source": [
    "#### Задание 1 \n",
    "Развернуть у себя на компьютере/виртуальной машине/хостинге MongoDB и реализовать функцию, записывающую собранные вакансии в созданную БД."
   ]
  },
  {
   "cell_type": "code",
   "execution_count": 1,
   "id": "c71057ae",
   "metadata": {},
   "outputs": [],
   "source": [
    "import pymongo"
   ]
  },
  {
   "cell_type": "code",
   "execution_count": 2,
   "id": "921065c4",
   "metadata": {
    "scrolled": true
   },
   "outputs": [],
   "source": [
    "from pymongo import MongoClient"
   ]
  },
  {
   "cell_type": "code",
   "execution_count": 3,
   "id": "f36f7497",
   "metadata": {},
   "outputs": [],
   "source": [
    "client = MongoClient('localhost', 27017)"
   ]
  },
  {
   "cell_type": "code",
   "execution_count": 4,
   "id": "3b73b11b",
   "metadata": {},
   "outputs": [],
   "source": [
    "db = client['vacancy_database_2']"
   ]
  },
  {
   "cell_type": "code",
   "execution_count": 5,
   "id": "18ca9b81",
   "metadata": {},
   "outputs": [],
   "source": [
    "collection = db.vacancy"
   ]
  },
  {
   "cell_type": "code",
   "execution_count": 6,
   "id": "ed4c0f29",
   "metadata": {},
   "outputs": [],
   "source": [
    "from bs4 import BeautifulSoup\n",
    "import lxml\n",
    "import requests"
   ]
  },
  {
   "cell_type": "code",
   "execution_count": 7,
   "id": "494cc6f1",
   "metadata": {},
   "outputs": [],
   "source": [
    "header = {\n",
    "    'USER-AGENT': \\\n",
    "    'Mozilla/5.0 (Windows NT 10.0; Win64; x64) AppleWebKit/537.36 (KHTML, like Gecko) Chrome/92.0.4515.107 Safari/537.36'\n",
    "}"
   ]
  },
  {
   "cell_type": "code",
   "execution_count": 8,
   "id": "7477be3b",
   "metadata": {},
   "outputs": [],
   "source": [
    "for i in range(1, 3):\n",
    "    url = \"https://krasnoyarsk.hh.ru/search/vacancy?page={}\".format(i)\n",
    "    response_hh = requests.get(url, headers=header)\n",
    "    soup_hh = BeautifulSoup(response_hh.text, 'lxml')\n",
    "    vacancy_name = [i.text.strip() for i in soup_hh.find_all('a', {'data-qa':'vacancy-serp__vacancy-title'})]\n",
    "    vacancy_html = [i['href'] for i in soup_hh.find_all('a', {'data-qa':'vacancy-serp__vacancy-title'})]\n",
    "    for num, i in enumerate(vacancy_name):\n",
    "        collection.insert_one(\n",
    "            {'Name': i,\n",
    "             'Income': None,\n",
    "             'Html': vacancy_html[num],\n",
    "             'Site': 'HH.ru'})"
   ]
  },
  {
   "cell_type": "code",
   "execution_count": 9,
   "id": "7e280369",
   "metadata": {},
   "outputs": [],
   "source": [
    "import unicodedata"
   ]
  },
  {
   "cell_type": "code",
   "execution_count": 10,
   "id": "99ff2d32",
   "metadata": {},
   "outputs": [],
   "source": [
    "for i in range(1, 3):\n",
    "    url2 = \"https://krasnoyarsk.superjob.ru/vacancy/search/?page={}\".format(i)\n",
    "    response_sj = requests.get(url2, headers=header)\n",
    "    soup_sj = BeautifulSoup(response_sj.text, 'lxml')\n",
    "    vacancy_name2 = [i.text.strip() for i in soup_sj.find_all(class_='_6AfZ9')]\n",
    "    vacancy_price2 = [i.text.strip() for i in soup_sj.find_all(class_='_1h3Zg _2Wp8I _2rfUm _2hCDz _2ZsgW')]\n",
    "    vacancy_price_new2 =[]\n",
    "    for i in vacancy_price2:\n",
    "        i = unicodedata.normalize(\"NFKD\", i)\n",
    "        vacancy_price_new2.append(i)\n",
    "    vacancy_html2 = [i['href'] for i in soup_sj.find_all(class_='_6AfZ9')]\n",
    "    for num, i in enumerate(vacancy_name2):\n",
    "        collection.insert_one(\n",
    "            {'Name': i,\n",
    "             'Income': vacancy_price_new2[num],\n",
    "             'Html': vacancy_html[num],\n",
    "             'Site': 'SJ.ru'})"
   ]
  },
  {
   "cell_type": "markdown",
   "id": "427d9ebc",
   "metadata": {},
   "source": [
    "#### Задание 2  \n",
    "Написать функцию, которая производит поиск и выводит на экран вакансии с заработной платой больше введённой суммы."
   ]
  },
  {
   "cell_type": "markdown",
   "id": "ad5c8e5c",
   "metadata": {},
   "source": [
    "Не разобрался как выделить максимальную и минимальную зарплату во втором задании, а оно пока не проверено"
   ]
  },
  {
   "cell_type": "code",
   "execution_count": 11,
   "id": "427ca847",
   "metadata": {},
   "outputs": [],
   "source": [
    "def much_income(number):\n",
    "    collection.find({'Income':{'$lt': number}})"
   ]
  },
  {
   "cell_type": "markdown",
   "id": "0ce29cdb",
   "metadata": {},
   "source": [
    "#### Задание 3  \n",
    "Написать функцию, которая будет добавлять в вашу базу данных только новые вакансии с сайта."
   ]
  },
  {
   "cell_type": "markdown",
   "id": "47011881",
   "metadata": {},
   "source": [
    "Для выполнения задания в качестве примера сделал функцию, которая добавляет новые вакансии с сайта HH.ru"
   ]
  },
  {
   "cell_type": "code",
   "execution_count": 12,
   "id": "c9ac27ae",
   "metadata": {},
   "outputs": [],
   "source": [
    "def new_vacancy(pages):\n",
    "    for i in range(0, pages):\n",
    "        url = \"https://krasnoyarsk.hh.ru/search/vacancy?page={}\".format(i)\n",
    "        response_hh = requests.get(url, headers=header)\n",
    "        soup_hh = BeautifulSoup(response_hh.text, 'lxml')\n",
    "        vacancy_name = [i.text.strip() for i in soup_hh.find_all('a', {'data-qa':'vacancy-serp__vacancy-title'})]\n",
    "        vacancy_html = [i['href'] for i in soup_hh.find_all('a', {'data-qa':'vacancy-serp__vacancy-title'})]\n",
    "        for num, i in enumerate(vacancy_name):\n",
    "            collection.replace_one(\n",
    "                {'Html': vacancy_html[num]},\n",
    "                {'Name': i,\n",
    "                 'Income': None,\n",
    "                 'Html': vacancy_html[num],\n",
    "                 'Site': 'HH.ru'},\n",
    "                upsert = True)"
   ]
  },
  {
   "cell_type": "code",
   "execution_count": 13,
   "id": "ff1ec08d",
   "metadata": {},
   "outputs": [],
   "source": [
    "new_vacancy(2)"
   ]
  }
 ],
 "metadata": {
  "kernelspec": {
   "display_name": "Python 3",
   "language": "python",
   "name": "python3"
  },
  "language_info": {
   "codemirror_mode": {
    "name": "ipython",
    "version": 3
   },
   "file_extension": ".py",
   "mimetype": "text/x-python",
   "name": "python",
   "nbconvert_exporter": "python",
   "pygments_lexer": "ipython3",
   "version": "3.8.8"
  }
 },
 "nbformat": 4,
 "nbformat_minor": 5
}
